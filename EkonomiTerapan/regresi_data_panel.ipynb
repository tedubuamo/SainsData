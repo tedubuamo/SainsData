{
 "cells": [
  {
   "cell_type": "markdown",
   "metadata": {},
   "source": [
    "# Diagram Algoritma Seleksi Model Regresi Data Panel"
   ]
  },
  {
   "cell_type": "markdown",
   "metadata": {},
   "source": [
    "<img src=\"image.png\" alt=\"Deskripsi gambar\"/>"
   ]
  },
  {
   "cell_type": "markdown",
   "metadata": {},
   "source": [
    "# Melakukan Import Library"
   ]
  },
  {
   "cell_type": "code",
   "execution_count": 23,
   "metadata": {},
   "outputs": [],
   "source": [
    "from statsmodels.stats.outliers_influence import variance_inflation_factor\n",
    "from statsmodels.stats.diagnostic import het_breuschpagan\n",
    "from statsmodels.stats.stattools import durbin_watson\n",
    "from sklearn.preprocessing import StandardScaler\n",
    "\n",
    "import statsmodels.formula.api as smf\n",
    "import statsmodels.api as sm\n",
    "import scipy.stats as stats\n",
    "import pandas as pd"
   ]
  },
  {
   "cell_type": "markdown",
   "metadata": {},
   "source": [
    "# Preprocessing Data Mentah "
   ]
  },
  {
   "cell_type": "code",
   "execution_count": 24,
   "metadata": {},
   "outputs": [],
   "source": [
    "df = pd.read_csv(\"Dataset/PDRB_KABKOT_2019-2021.csv\",delimiter=\";\")\n",
    "\n",
    "df_konsumsi_rt = df.melt(id_vars=['Kabupaten/Kota'], \n",
    "                    value_vars=[\"2019\",\"2020\",\"2021\"], \n",
    "                    var_name='Tahun', \n",
    "                    value_name='Pengeluaran Konsumsi Rumah Tangga')\n",
    "\n",
    "df_konsumsi_lnprt = df.melt(id_vars=['Kabupaten/Kota'], \n",
    "                    value_vars=[\"2019.1\",\"2020.1\",\"2021.1\"], \n",
    "                    var_name='Tahun', \n",
    "                    value_name='Pengeluaran Konsumsi LNPRT')\n",
    "\n",
    "df_konsumsi_lnprt[\"Tahun\"] = df_konsumsi_lnprt[\"Tahun\"].replace({\"2019.1\":\"2019\", \"2020.1\":\"2020\",\"2021.1\":\"2021\"})\n",
    "\n",
    "df_konsumsi_pemerintah = df.melt(id_vars=['Kabupaten/Kota'], \n",
    "                    value_vars=[\"2019.2\",\"2020.2\",\"2021.2\"], \n",
    "                    var_name='Tahun', \n",
    "                    value_name='Pengeluaran Konsumsi Pemerintah')\n",
    "\n",
    "df_konsumsi_pemerintah[\"Tahun\"] = df_konsumsi_pemerintah[\"Tahun\"].replace({\"2019.2\":\"2019\", \"2020.2\":\"2020\",\"2021.2\":\"2021\"})\n",
    "\n",
    "df_pmtb = df.melt(id_vars=['Kabupaten/Kota'], \n",
    "                    value_vars=[\"2019.3\",\"2020.3\",\"2021.3\"], \n",
    "                    var_name='Tahun', \n",
    "                    value_name='Pembentukan Modal Tetap Bruto')\n",
    "\n",
    "df_pmtb[\"Tahun\"] = df_pmtb[\"Tahun\"].replace({\"2019.3\":\"2019\", \"2020.3\":\"2020\",\"2021.3\":\"2021\"})\n",
    "\n",
    "df_inventori = df.melt(id_vars=['Kabupaten/Kota'], \n",
    "                    value_vars=[\"2019.4\",\"2020.4\",\"2021.4\"], \n",
    "                    var_name='Tahun', \n",
    "                    value_name='Perubahan Inventori')\n",
    "\n",
    "df_inventori[\"Tahun\"] = df_inventori[\"Tahun\"].replace({\"2019.4\":\"2019\", \"2020.4\":\"2020\",\"2021.4\":\"2021\"})\n",
    "\n",
    "df_ekspor = df.melt(id_vars=['Kabupaten/Kota'], \n",
    "                    value_vars=[\"2019.5\",\"2020.5\",\"2021.5\"], \n",
    "                    var_name='Tahun', \n",
    "                    value_name='Net Ekspor')\n",
    "\n",
    "df_ekspor[\"Tahun\"] = df_ekspor[\"Tahun\"].replace({\"2019.5\":\"2019\", \"2020.5\":\"2020\",\"2021.5\":\"2021\"})\n",
    "\n",
    "df_pdrb = df.melt(id_vars=['Kabupaten/Kota'], \n",
    "                    value_vars=[\"2019.6\",\"2020.6\",\"2021.6\"], \n",
    "                    var_name='Tahun', \n",
    "                    value_name='PDRB')\n",
    "\n",
    "df_pdrb[\"Tahun\"] = df_pdrb[\"Tahun\"].replace({\"2019.6\":\"2019\", \"2020.6\":\"2020\",\"2021.6\":\"2021\"})\n"
   ]
  },
  {
   "cell_type": "code",
   "execution_count": 25,
   "metadata": {},
   "outputs": [],
   "source": [
    "dataframes = [df_konsumsi_rt, df_konsumsi_lnprt, df_konsumsi_pemerintah, df_pmtb, df_inventori, df_ekspor, df_pdrb]\n",
    "\n",
    "df_merged = pd.concat(dataframes, axis=1)\n",
    "\n",
    "df_merged_22_23 = df_merged.loc[:, ~df_merged.columns.duplicated()]\n",
    "df_merged_22_23.to_csv('Dataset/Process_KABKOT_2019-2021.csv')"
   ]
  },
  {
   "cell_type": "code",
   "execution_count": 26,
   "metadata": {},
   "outputs": [
    {
     "data": {
      "text/html": [
       "<div>\n",
       "<style scoped>\n",
       "    .dataframe tbody tr th:only-of-type {\n",
       "        vertical-align: middle;\n",
       "    }\n",
       "\n",
       "    .dataframe tbody tr th {\n",
       "        vertical-align: top;\n",
       "    }\n",
       "\n",
       "    .dataframe thead th {\n",
       "        text-align: right;\n",
       "    }\n",
       "</style>\n",
       "<table border=\"1\" class=\"dataframe\">\n",
       "  <thead>\n",
       "    <tr style=\"text-align: right;\">\n",
       "      <th></th>\n",
       "      <th>Kabupaten/Kota</th>\n",
       "      <th>Tahun</th>\n",
       "      <th>Pengeluaran Konsumsi Rumah Tangga</th>\n",
       "      <th>Pengeluaran Konsumsi LNPRT</th>\n",
       "      <th>Pengeluaran Konsumsi Pemerintah</th>\n",
       "      <th>Pembentukan Modal Tetap Bruto</th>\n",
       "      <th>Perubahan Inventori</th>\n",
       "      <th>Net Ekspor</th>\n",
       "      <th>PDRB</th>\n",
       "    </tr>\n",
       "  </thead>\n",
       "  <tbody>\n",
       "    <tr>\n",
       "      <th>0</th>\n",
       "      <td>Simeulue</td>\n",
       "      <td>2019</td>\n",
       "      <td>1583299.05</td>\n",
       "      <td>95178.33</td>\n",
       "      <td>848065.06</td>\n",
       "      <td>976234.86</td>\n",
       "      <td>5508.92</td>\n",
       "      <td>-1296400.64</td>\n",
       "      <td>2211885.58</td>\n",
       "    </tr>\n",
       "    <tr>\n",
       "      <th>1</th>\n",
       "      <td>Aceh Singkil</td>\n",
       "      <td>2019</td>\n",
       "      <td>1659150.11</td>\n",
       "      <td>46800.16</td>\n",
       "      <td>889060.69</td>\n",
       "      <td>783541.57</td>\n",
       "      <td>30642.55</td>\n",
       "      <td>-1013783.24</td>\n",
       "      <td>2395411.85</td>\n",
       "    </tr>\n",
       "    <tr>\n",
       "      <th>2</th>\n",
       "      <td>Aceh Selatan</td>\n",
       "      <td>2019</td>\n",
       "      <td>3770239.34</td>\n",
       "      <td>114959.07</td>\n",
       "      <td>1395207.90</td>\n",
       "      <td>1965693.90</td>\n",
       "      <td>42754.97</td>\n",
       "      <td>-1809429.52</td>\n",
       "      <td>5479425.66</td>\n",
       "    </tr>\n",
       "    <tr>\n",
       "      <th>3</th>\n",
       "      <td>Aceh Tenggara</td>\n",
       "      <td>2019</td>\n",
       "      <td>3787303.20</td>\n",
       "      <td>210842.96</td>\n",
       "      <td>1302535.79</td>\n",
       "      <td>1369322.79</td>\n",
       "      <td>226988.74</td>\n",
       "      <td>-1990076.09</td>\n",
       "      <td>4906917.38</td>\n",
       "    </tr>\n",
       "    <tr>\n",
       "      <th>4</th>\n",
       "      <td>Aceh Timur</td>\n",
       "      <td>2019</td>\n",
       "      <td>7919415.25</td>\n",
       "      <td>317838.81</td>\n",
       "      <td>1550051.91</td>\n",
       "      <td>3746446.62</td>\n",
       "      <td>147401.58</td>\n",
       "      <td>-3400354.67</td>\n",
       "      <td>10280799.51</td>\n",
       "    </tr>\n",
       "  </tbody>\n",
       "</table>\n",
       "</div>"
      ],
      "text/plain": [
       "  Kabupaten/Kota  Tahun  Pengeluaran Konsumsi Rumah Tangga  \\\n",
       "0       Simeulue   2019                         1583299.05   \n",
       "1   Aceh Singkil   2019                         1659150.11   \n",
       "2   Aceh Selatan   2019                         3770239.34   \n",
       "3  Aceh Tenggara   2019                         3787303.20   \n",
       "4     Aceh Timur   2019                         7919415.25   \n",
       "\n",
       "   Pengeluaran Konsumsi LNPRT  Pengeluaran Konsumsi Pemerintah  \\\n",
       "0                    95178.33                        848065.06   \n",
       "1                    46800.16                        889060.69   \n",
       "2                   114959.07                       1395207.90   \n",
       "3                   210842.96                       1302535.79   \n",
       "4                   317838.81                       1550051.91   \n",
       "\n",
       "   Pembentukan Modal Tetap Bruto  Perubahan Inventori  Net Ekspor         PDRB  \n",
       "0                      976234.86              5508.92 -1296400.64   2211885.58  \n",
       "1                      783541.57             30642.55 -1013783.24   2395411.85  \n",
       "2                     1965693.90             42754.97 -1809429.52   5479425.66  \n",
       "3                     1369322.79            226988.74 -1990076.09   4906917.38  \n",
       "4                     3746446.62            147401.58 -3400354.67  10280799.51  "
      ]
     },
     "execution_count": 26,
     "metadata": {},
     "output_type": "execute_result"
    }
   ],
   "source": [
    "df_pdrb_19_21 = pd.read_csv(\"Dataset/Process_KABKOT_2019-2021.csv\")\n",
    "df_pdrb_19_21.drop(columns=[\"Unnamed: 0\"],inplace=True )\n",
    "df_pdrb_19_21.head(5)"
   ]
  },
  {
   "cell_type": "code",
   "execution_count": 27,
   "metadata": {},
   "outputs": [],
   "source": [
    "df = pd.read_csv(\"Dataset/PDRB_KABKOT_2022-2023.csv\",delimiter=\";\")\n",
    "\n",
    "df_konsumsi_rt = df.melt(id_vars=['Kabupaten/Kota'], \n",
    "                    value_vars=[\"2022\",\"2023\"], \n",
    "                    var_name='Tahun', \n",
    "                    value_name='Pengeluaran Konsumsi Rumah Tangga')\n",
    "\n",
    "df_konsumsi_lnprt = df.melt(id_vars=['Kabupaten/Kota'], \n",
    "                    value_vars=[\"2022.1\",\"2023.1\"], \n",
    "                    var_name='Tahun', \n",
    "                    value_name='Pengeluaran Konsumsi LNPRT')\n",
    "\n",
    "df_konsumsi_lnprt[\"Tahun\"] = df_konsumsi_lnprt[\"Tahun\"].replace({\"2022.1\":\"2022\", \"2023.1\":\"2023\"})\n",
    "\n",
    "df_konsumsi_pemerintah = df.melt(id_vars=['Kabupaten/Kota'], \n",
    "                    value_vars=[\"2022.2\",\"2023.2\"], \n",
    "                    var_name='Tahun', \n",
    "                    value_name='Pengeluaran Konsumsi Pemerintah')\n",
    "\n",
    "df_konsumsi_pemerintah[\"Tahun\"] = df_konsumsi_pemerintah[\"Tahun\"].replace({\"2022.2\":\"2022\", \"2023.2\":\"2023\"})\n",
    "\n",
    "df_pmtb = df.melt(id_vars=['Kabupaten/Kota'], \n",
    "                    value_vars=[\"2022.3\",\"2023.3\"], \n",
    "                    var_name='Tahun', \n",
    "                    value_name='Pembentukan Modal Tetap Bruto')\n",
    "\n",
    "df_pmtb[\"Tahun\"] = df_pmtb[\"Tahun\"].replace({\"2022.3\":\"2022\", \"2023.3\":\"2023\"})\n",
    "\n",
    "df_inventori = df.melt(id_vars=['Kabupaten/Kota'], \n",
    "                    value_vars=[\"2022.4\",\"2023.4\"], \n",
    "                    var_name='Tahun', \n",
    "                    value_name='Perubahan Inventori')\n",
    "\n",
    "df_inventori[\"Tahun\"] = df_inventori[\"Tahun\"].replace({\"2022.4\":\"2022\", \"2023.4\":\"2023\"})\n",
    "\n",
    "df_ekspor = df.melt(id_vars=['Kabupaten/Kota'], \n",
    "                    value_vars=[\"2022.5\",\"2023.5\"], \n",
    "                    var_name='Tahun', \n",
    "                    value_name='Net Ekspor')\n",
    "\n",
    "df_ekspor[\"Tahun\"] = df_ekspor[\"Tahun\"].replace({\"2022.5\":\"2022\", \"2023.5\":\"2023\"})\n",
    "\n",
    "df_pdrb = df.melt(id_vars=['Kabupaten/Kota'],  \n",
    "                    value_vars=[\"2022.6\",\"2023.6\"], \n",
    "                    var_name='Tahun', \n",
    "                    value_name='PDRB')\n",
    "\n",
    "df_pdrb[\"Tahun\"] = df_pdrb[\"Tahun\"].replace({\"2022.6\":\"2022\", \"2023.6\":\"2023\"})\n"
   ]
  },
  {
   "cell_type": "code",
   "execution_count": 28,
   "metadata": {},
   "outputs": [],
   "source": [
    "dataframes = [df_konsumsi_rt, df_konsumsi_lnprt, df_konsumsi_pemerintah, df_pmtb, df_inventori, df_ekspor, df_pdrb]\n",
    "\n",
    "df_merged = pd.concat(dataframes, axis=1)\n",
    "\n",
    "df_merged_22_23 = df_merged.loc[:, ~df_merged.columns.duplicated()]\n",
    "df_merged_22_23.to_csv('Dataset/Process_KABKOT_2022-2023.csv')"
   ]
  },
  {
   "cell_type": "code",
   "execution_count": 29,
   "metadata": {},
   "outputs": [
    {
     "data": {
      "text/html": [
       "<div>\n",
       "<style scoped>\n",
       "    .dataframe tbody tr th:only-of-type {\n",
       "        vertical-align: middle;\n",
       "    }\n",
       "\n",
       "    .dataframe tbody tr th {\n",
       "        vertical-align: top;\n",
       "    }\n",
       "\n",
       "    .dataframe thead th {\n",
       "        text-align: right;\n",
       "    }\n",
       "</style>\n",
       "<table border=\"1\" class=\"dataframe\">\n",
       "  <thead>\n",
       "    <tr style=\"text-align: right;\">\n",
       "      <th></th>\n",
       "      <th>Kabupaten/Kota</th>\n",
       "      <th>Tahun</th>\n",
       "      <th>Pengeluaran Konsumsi Rumah Tangga</th>\n",
       "      <th>Pengeluaran Konsumsi LNPRT</th>\n",
       "      <th>Pengeluaran Konsumsi Pemerintah</th>\n",
       "      <th>Pembentukan Modal Tetap Bruto</th>\n",
       "      <th>Perubahan Inventori</th>\n",
       "      <th>Net Ekspor</th>\n",
       "      <th>PDRB</th>\n",
       "    </tr>\n",
       "  </thead>\n",
       "  <tbody>\n",
       "    <tr>\n",
       "      <th>0</th>\n",
       "      <td>Simeulue</td>\n",
       "      <td>2022</td>\n",
       "      <td>1771882.88</td>\n",
       "      <td>100995.31</td>\n",
       "      <td>832009.10</td>\n",
       "      <td>1092343.90</td>\n",
       "      <td>6197.77</td>\n",
       "      <td>-1115400.61</td>\n",
       "      <td>2688028.35</td>\n",
       "    </tr>\n",
       "    <tr>\n",
       "      <th>1</th>\n",
       "      <td>Aceh Singkil</td>\n",
       "      <td>2022</td>\n",
       "      <td>1837939.35</td>\n",
       "      <td>50875.44</td>\n",
       "      <td>917253.61</td>\n",
       "      <td>898634.96</td>\n",
       "      <td>35602.56</td>\n",
       "      <td>-735681.36</td>\n",
       "      <td>3004624.56</td>\n",
       "    </tr>\n",
       "    <tr>\n",
       "      <th>2</th>\n",
       "      <td>Aceh Selatan</td>\n",
       "      <td>2022</td>\n",
       "      <td>4135803.30</td>\n",
       "      <td>117098.15</td>\n",
       "      <td>1301141.82</td>\n",
       "      <td>2149461.38</td>\n",
       "      <td>25269.89</td>\n",
       "      <td>-1282256.77</td>\n",
       "      <td>6446517.77</td>\n",
       "    </tr>\n",
       "    <tr>\n",
       "      <th>3</th>\n",
       "      <td>Aceh Tenggara</td>\n",
       "      <td>2022</td>\n",
       "      <td>4168534.33</td>\n",
       "      <td>205550.87</td>\n",
       "      <td>1440371.46</td>\n",
       "      <td>1594665.55</td>\n",
       "      <td>162028.39</td>\n",
       "      <td>-1742458.33</td>\n",
       "      <td>5828692.27</td>\n",
       "    </tr>\n",
       "    <tr>\n",
       "      <th>4</th>\n",
       "      <td>Aceh Timur</td>\n",
       "      <td>2022</td>\n",
       "      <td>9037578.94</td>\n",
       "      <td>328965.33</td>\n",
       "      <td>1543873.27</td>\n",
       "      <td>4276605.48</td>\n",
       "      <td>250955.59</td>\n",
       "      <td>-2336922.77</td>\n",
       "      <td>13101055.84</td>\n",
       "    </tr>\n",
       "  </tbody>\n",
       "</table>\n",
       "</div>"
      ],
      "text/plain": [
       "  Kabupaten/Kota  Tahun  Pengeluaran Konsumsi Rumah Tangga  \\\n",
       "0       Simeulue   2022                         1771882.88   \n",
       "1   Aceh Singkil   2022                         1837939.35   \n",
       "2   Aceh Selatan   2022                         4135803.30   \n",
       "3  Aceh Tenggara   2022                         4168534.33   \n",
       "4     Aceh Timur   2022                         9037578.94   \n",
       "\n",
       "   Pengeluaran Konsumsi LNPRT  Pengeluaran Konsumsi Pemerintah  \\\n",
       "0                   100995.31                        832009.10   \n",
       "1                    50875.44                        917253.61   \n",
       "2                   117098.15                       1301141.82   \n",
       "3                   205550.87                       1440371.46   \n",
       "4                   328965.33                       1543873.27   \n",
       "\n",
       "   Pembentukan Modal Tetap Bruto  Perubahan Inventori  Net Ekspor         PDRB  \n",
       "0                     1092343.90              6197.77 -1115400.61   2688028.35  \n",
       "1                      898634.96             35602.56  -735681.36   3004624.56  \n",
       "2                     2149461.38             25269.89 -1282256.77   6446517.77  \n",
       "3                     1594665.55            162028.39 -1742458.33   5828692.27  \n",
       "4                     4276605.48            250955.59 -2336922.77  13101055.84  "
      ]
     },
     "execution_count": 29,
     "metadata": {},
     "output_type": "execute_result"
    }
   ],
   "source": [
    "df_pdrb_22_23 = pd.read_csv(\"Dataset/Process_KABKOT_2022-2023.csv\")\n",
    "df_pdrb_22_23.drop(columns=[\"Unnamed: 0\"],inplace=True )\n",
    "df_pdrb_22_23.head(5)"
   ]
  },
  {
   "cell_type": "markdown",
   "metadata": {},
   "source": [
    "# Menggabungkan 2 file csv pada 2 rentang tahun menjadi satu file"
   ]
  },
  {
   "cell_type": "code",
   "execution_count": 30,
   "metadata": {},
   "outputs": [],
   "source": [
    "df_final = pd.concat([df_pdrb_19_21, df_pdrb_22_23], axis=0, ignore_index=True)\n",
    "df_final.to_csv('Dataset/Final_KABKOT_2019-2023.csv', index=False)"
   ]
  },
  {
   "cell_type": "markdown",
   "metadata": {},
   "source": [
    "# Menampilkan 5 baris teratas dari dataset baru yang telah dihasilkan "
   ]
  },
  {
   "cell_type": "code",
   "execution_count": 31,
   "metadata": {},
   "outputs": [
    {
     "data": {
      "text/html": [
       "<div>\n",
       "<style scoped>\n",
       "    .dataframe tbody tr th:only-of-type {\n",
       "        vertical-align: middle;\n",
       "    }\n",
       "\n",
       "    .dataframe tbody tr th {\n",
       "        vertical-align: top;\n",
       "    }\n",
       "\n",
       "    .dataframe thead th {\n",
       "        text-align: right;\n",
       "    }\n",
       "</style>\n",
       "<table border=\"1\" class=\"dataframe\">\n",
       "  <thead>\n",
       "    <tr style=\"text-align: right;\">\n",
       "      <th></th>\n",
       "      <th>Kabupaten/Kota</th>\n",
       "      <th>Tahun</th>\n",
       "      <th>Pengeluaran Konsumsi Rumah Tangga</th>\n",
       "      <th>Pengeluaran Konsumsi LNPRT</th>\n",
       "      <th>Pengeluaran Konsumsi Pemerintah</th>\n",
       "      <th>Pembentukan Modal Tetap Bruto</th>\n",
       "      <th>Perubahan Inventori</th>\n",
       "      <th>Net Ekspor</th>\n",
       "      <th>PDRB</th>\n",
       "    </tr>\n",
       "  </thead>\n",
       "  <tbody>\n",
       "    <tr>\n",
       "      <th>0</th>\n",
       "      <td>Aceh Barat</td>\n",
       "      <td>2019</td>\n",
       "      <td>3909837.42</td>\n",
       "      <td>200138.03</td>\n",
       "      <td>1315800.47</td>\n",
       "      <td>3822095.04</td>\n",
       "      <td>58748.77</td>\n",
       "      <td>-1342265.13</td>\n",
       "      <td>7964354.62</td>\n",
       "    </tr>\n",
       "    <tr>\n",
       "      <th>1</th>\n",
       "      <td>Aceh Barat</td>\n",
       "      <td>2020</td>\n",
       "      <td>4001567.39</td>\n",
       "      <td>205085.82</td>\n",
       "      <td>1266981.74</td>\n",
       "      <td>3994965.35</td>\n",
       "      <td>91156.52</td>\n",
       "      <td>-1450523.56</td>\n",
       "      <td>8109233.27</td>\n",
       "    </tr>\n",
       "    <tr>\n",
       "      <th>2</th>\n",
       "      <td>Aceh Barat</td>\n",
       "      <td>2021</td>\n",
       "      <td>4160381.91</td>\n",
       "      <td>208005.73</td>\n",
       "      <td>1370243.86</td>\n",
       "      <td>4107969.55</td>\n",
       "      <td>81432.99</td>\n",
       "      <td>55073.82</td>\n",
       "      <td>9983107.86</td>\n",
       "    </tr>\n",
       "    <tr>\n",
       "      <th>3</th>\n",
       "      <td>Aceh Barat</td>\n",
       "      <td>2022</td>\n",
       "      <td>4518389.31</td>\n",
       "      <td>236536.51</td>\n",
       "      <td>1380158.42</td>\n",
       "      <td>4260455.47</td>\n",
       "      <td>193233.00</td>\n",
       "      <td>2141386.11</td>\n",
       "      <td>12730158.82</td>\n",
       "    </tr>\n",
       "    <tr>\n",
       "      <th>4</th>\n",
       "      <td>Aceh Barat</td>\n",
       "      <td>2023</td>\n",
       "      <td>4919560.39</td>\n",
       "      <td>267492.85</td>\n",
       "      <td>1498723.06</td>\n",
       "      <td>4706453.44</td>\n",
       "      <td>247608.00</td>\n",
       "      <td>1932084.99</td>\n",
       "      <td>13571922.75</td>\n",
       "    </tr>\n",
       "  </tbody>\n",
       "</table>\n",
       "</div>"
      ],
      "text/plain": [
       "  Kabupaten/Kota  Tahun  Pengeluaran Konsumsi Rumah Tangga  \\\n",
       "0     Aceh Barat   2019                         3909837.42   \n",
       "1     Aceh Barat   2020                         4001567.39   \n",
       "2     Aceh Barat   2021                         4160381.91   \n",
       "3     Aceh Barat   2022                         4518389.31   \n",
       "4     Aceh Barat   2023                         4919560.39   \n",
       "\n",
       "   Pengeluaran Konsumsi LNPRT  Pengeluaran Konsumsi Pemerintah  \\\n",
       "0                   200138.03                       1315800.47   \n",
       "1                   205085.82                       1266981.74   \n",
       "2                   208005.73                       1370243.86   \n",
       "3                   236536.51                       1380158.42   \n",
       "4                   267492.85                       1498723.06   \n",
       "\n",
       "   Pembentukan Modal Tetap Bruto  Perubahan Inventori  Net Ekspor         PDRB  \n",
       "0                     3822095.04             58748.77 -1342265.13   7964354.62  \n",
       "1                     3994965.35             91156.52 -1450523.56   8109233.27  \n",
       "2                     4107969.55             81432.99    55073.82   9983107.86  \n",
       "3                     4260455.47            193233.00  2141386.11  12730158.82  \n",
       "4                     4706453.44            247608.00  1932084.99  13571922.75  "
      ]
     },
     "execution_count": 31,
     "metadata": {},
     "output_type": "execute_result"
    }
   ],
   "source": [
    "model_dataset = pd.read_csv(\"Dataset/Final_KABKOT_2019-2023.csv\")\n",
    "dataset = model_dataset.sort_values(by=[\"Kabupaten/Kota\", \"Tahun\"]).reset_index(drop=True)\n",
    "dataset.head(5)"
   ]
  },
  {
   "cell_type": "markdown",
   "metadata": {},
   "source": [
    "# Melakukan Uji Asumsi Klasik pada dataset"
   ]
  },
  {
   "cell_type": "markdown",
   "metadata": {},
   "source": [
    "## Uji Normalitas menggunakan uji Shapiro-Wilk."
   ]
  },
  {
   "cell_type": "code",
   "execution_count": 32,
   "metadata": {},
   "outputs": [
    {
     "name": "stdout",
     "output_type": "stream",
     "text": [
      "Uji Normalitas (Shapiro-Wilk Test) setelah Standarisasi:\n",
      "Statistic: 0.006283700466156006, p-value: 0.0\n"
     ]
    }
   ],
   "source": [
    "y = dataset['PDRB']  # Variabel dependen\n",
    "X = dataset.drop(columns=['Kabupaten/Kota', 'Tahun', 'PDRB'])  # Variabel independen, pastikan tidak ada kolom non-numerik\n",
    "\n",
    "# Tambahkan konstanta pada variabel independen\n",
    "X = sm.add_constant(X)\n",
    "\n",
    "model = sm.OLS(y, X).fit()\n",
    "\n",
    "# Ambil residual dari model\n",
    "residuals = model.resid\n",
    "\n",
    "# Standarisasi residual menggunakan StandardScaler\n",
    "scaler = StandardScaler()\n",
    "residuals_scaled = scaler.fit_transform(residuals.values.reshape(-1, 1)).flatten()\n",
    "\n",
    "# Lakukan uji Shapiro-Wilk pada residual yang sudah distandarisasi\n",
    "shapiro_test = stats.shapiro(residuals_scaled)\n",
    "print(f\"Uji Normalitas (Shapiro-Wilk Test) setelah Standarisasi:\")\n",
    "print(f\"Statistic: {shapiro_test.statistic}, p-value: {shapiro_test.pvalue}\")"
   ]
  },
  {
   "cell_type": "markdown",
   "metadata": {},
   "source": [
    "## Uji Multikolinearitas menggunakan nilai VIF (Variance Inflation Factor)."
   ]
  },
  {
   "cell_type": "code",
   "execution_count": 33,
   "metadata": {},
   "outputs": [
    {
     "name": "stdout",
     "output_type": "stream",
     "text": [
      "\n",
      "Uji Multikolinearitas (VIF):\n",
      "                             Feature        VIF\n",
      "0                              const   1.225980\n",
      "1  Pengeluaran Konsumsi Rumah Tangga  10.127827\n",
      "2         Pengeluaran Konsumsi LNPRT   7.960660\n",
      "3    Pengeluaran Konsumsi Pemerintah   2.281563\n",
      "4      Pembentukan Modal Tetap Bruto   8.516430\n",
      "5                Perubahan Inventori   1.164226\n",
      "6                         Net Ekspor   1.585121\n"
     ]
    }
   ],
   "source": [
    "# 2. Uji Multikolinearitas (Variance Inflation Factor - VIF)\n",
    "vif_data = pd.DataFrame()\n",
    "vif_data[\"Feature\"] = X.columns\n",
    "vif_data[\"VIF\"] = [variance_inflation_factor(X.values, i) for i in range(X.shape[1])]\n",
    "print(\"\\nUji Multikolinearitas (VIF):\")\n",
    "print(vif_data)"
   ]
  },
  {
   "cell_type": "markdown",
   "metadata": {},
   "source": [
    "## Uji Heteroskedastisitas menggunakan uji Breusch-Pagan."
   ]
  },
  {
   "cell_type": "code",
   "execution_count": 34,
   "metadata": {},
   "outputs": [
    {
     "name": "stdout",
     "output_type": "stream",
     "text": [
      "\n",
      "Uji Heteroskedastisitas (Breusch-Pagan Test):\n",
      "{'LM Statistic': 0.22058881557683652, 'LM-Test p-value': 0.9997940870286727, 'F-Statistic': 0.03666781228139782, 'F-Test p-value': 0.9997952282361835}\n"
     ]
    }
   ],
   "source": [
    "bp_test = het_breuschpagan(residuals, X)\n",
    "labels = ['LM Statistic', 'LM-Test p-value', 'F-Statistic', 'F-Test p-value']\n",
    "print(\"\\nUji Heteroskedastisitas (Breusch-Pagan Test):\")\n",
    "print(dict(zip(labels, bp_test)))"
   ]
  },
  {
   "cell_type": "markdown",
   "metadata": {},
   "source": [
    "## Uji Autokorelasi menggunakan uji Durbin-Watson."
   ]
  },
  {
   "cell_type": "code",
   "execution_count": 35,
   "metadata": {},
   "outputs": [
    {
     "name": "stdout",
     "output_type": "stream",
     "text": [
      "\n",
      "Uji Autokorelasi (Durbin-Watson Test):\n",
      "Durbin-Watson Statistic: 2.0009692436747977\n"
     ]
    }
   ],
   "source": [
    "dw_statistic = durbin_watson(residuals)\n",
    "print(\"\\nUji Autokorelasi (Durbin-Watson Test):\")\n",
    "print(f\"Durbin-Watson Statistic: {dw_statistic}\")"
   ]
  },
  {
   "cell_type": "code",
   "execution_count": 36,
   "metadata": {},
   "outputs": [
    {
     "name": "stdout",
     "output_type": "stream",
     "text": [
      "                            OLS Regression Results                            \n",
      "==============================================================================\n",
      "Dep. Variable:           np.log(PDRB)   R-squared:                       0.974\n",
      "Model:                            OLS   Adj. R-squared:                  0.974\n",
      "Method:                 Least Squares   F-statistic:                     4842.\n",
      "Date:                Wed, 06 Nov 2024   Prob (F-statistic):               0.00\n",
      "Time:                        20:25:24   Log-Likelihood:                 229.44\n",
      "No. Observations:                 773   AIC:                            -444.9\n",
      "Df Residuals:                     766   BIC:                            -412.3\n",
      "Df Model:                           6                                         \n",
      "Covariance Type:            nonrobust                                         \n",
      "=============================================================================================================\n",
      "                                                coef    std err          t      P>|t|      [0.025      0.975]\n",
      "-------------------------------------------------------------------------------------------------------------\n",
      "Intercept                                     1.6986      0.125     13.561      0.000       1.453       1.944\n",
      "np.log(Pengeluaran_Konsumsi_Rumah_Tangga)     0.3094      0.014     22.544      0.000       0.282       0.336\n",
      "np.log(Pengeluaran_Konsumsi_LNPRT)            0.0525      0.011      4.639      0.000       0.030       0.075\n",
      "np.log(Pengeluaran_Konsumsi_Pemerintah)       0.0802      0.015      5.203      0.000       0.050       0.110\n",
      "np.log(Pembentukan_Modal_Tetap_Bruto)         0.3903      0.013     30.519      0.000       0.365       0.415\n",
      "np.log(Perubahan_Inventori)                   0.0099      0.003      3.333      0.001       0.004       0.016\n",
      "np.log(Net_Ekspor)                            0.1589      0.004     36.201      0.000       0.150       0.168\n",
      "==============================================================================\n",
      "Omnibus:                      217.442   Durbin-Watson:                   0.945\n",
      "Prob(Omnibus):                  0.000   Jarque-Bera (JB):              515.431\n",
      "Skew:                           1.491   Prob(JB):                    1.19e-112\n",
      "Kurtosis:                       5.666   Cond. No.                         674.\n",
      "==============================================================================\n",
      "\n",
      "Notes:\n",
      "[1] Standard Errors assume that the covariance matrix of the errors is correctly specified.\n"
     ]
    },
    {
     "name": "stderr",
     "output_type": "stream",
     "text": [
      "c:\\Users\\Ardiansyah\\AppData\\Local\\Programs\\Python\\Python311\\Lib\\site-packages\\pandas\\core\\arraylike.py:396: RuntimeWarning: invalid value encountered in log\n",
      "  result = getattr(ufunc, method)(*inputs, **kwargs)\n",
      "c:\\Users\\Ardiansyah\\AppData\\Local\\Programs\\Python\\Python311\\Lib\\site-packages\\pandas\\core\\arraylike.py:396: RuntimeWarning: invalid value encountered in log\n",
      "  result = getattr(ufunc, method)(*inputs, **kwargs)\n",
      "c:\\Users\\Ardiansyah\\AppData\\Local\\Programs\\Python\\Python311\\Lib\\site-packages\\pandas\\core\\arraylike.py:396: RuntimeWarning: invalid value encountered in log\n",
      "  result = getattr(ufunc, method)(*inputs, **kwargs)\n"
     ]
    }
   ],
   "source": [
    "# Ganti nama kolom dataset agar tidak mengandung spasi\n",
    "dataset = dataset.rename(columns={\n",
    "    \"Pengeluaran Konsumsi Rumah Tangga\": \"Pengeluaran_Konsumsi_Rumah_Tangga\",\n",
    "    \"Pengeluaran Konsumsi LNPRT\": \"Pengeluaran_Konsumsi_LNPRT\",\n",
    "    \"Pengeluaran Konsumsi Pemerintah\": \"Pengeluaran_Konsumsi_Pemerintah\",\n",
    "    \"Pembentukan Modal Tetap Bruto\": \"Pembentukan_Modal_Tetap_Bruto\",\n",
    "    \"Perubahan Inventori\": \"Perubahan_Inventori\",\n",
    "    \"Net Ekspor\": \"Net_Ekspor\"\n",
    "})\n",
    "\n",
    "model = smf.ols(\n",
    "    formula=\"np.log(PDRB) ~ np.log(Pengeluaran_Konsumsi_Rumah_Tangga) + np.log(Pengeluaran_Konsumsi_LNPRT) + np.log(Pengeluaran_Konsumsi_Pemerintah) + np.log(Pembentukan_Modal_Tetap_Bruto) + np.log(Perubahan_Inventori) + np.log(Net_Ekspor)\",\n",
    "    data=dataset,\n",
    ")\n",
    "results = model.fit()\n",
    "print(results.summary())\n"
   ]
  },
  {
   "cell_type": "markdown",
   "metadata": {},
   "source": [
    "## Chow-Test"
   ]
  },
  {
   "cell_type": "code",
   "execution_count": 37,
   "metadata": {},
   "outputs": [],
   "source": [
    "import pandas as pd\n",
    "import statsmodels.api as sm\n",
    "from scipy.stats import f\n",
    "\n",
    "model_dataset = pd.read_csv(\"Dataset/Final_KABKOT_2019-2023.csv\")\n",
    "df = model_dataset.sort_values(by=[\"Kabupaten/Kota\", \"Tahun\"]).reset_index(drop=True)\n",
    "\n",
    "def chow_test(X1, y1, X2, y2):\n",
    "    X_combined = pd.concat([X1, X2])\n",
    "    y_combined = pd.concat([y1, y2])\n",
    "    \n",
    "    model_combined = sm.OLS(y_combined, sm.add_constant(X_combined)).fit()\n",
    "    \n",
    "    model_1 = sm.OLS(y1, sm.add_constant(X1)).fit()\n",
    "    model_2 = sm.OLS(y2, sm.add_constant(X2)).fit()\n",
    "    \n",
    "    RSS_combined = model_combined.ssr  \n",
    "    RSS_1 = model_1.ssr                \n",
    "    RSS_2 = model_2.ssr                \n",
    "    \n",
    "    n1, n2 = len(y1), len(y2)          \n",
    "    k = X1.shape[1] + 1                \n",
    "    \n",
    "    F_stat = ((RSS_combined - (RSS_1 + RSS_2)) / k) / ((RSS_1 + RSS_2) / (n1 + n2 - 2 * k))\n",
    "    \n",
    "    return F_stat, k, n1, n2"
   ]
  },
  {
   "cell_type": "code",
   "execution_count": 38,
   "metadata": {},
   "outputs": [
    {
     "name": "stdout",
     "output_type": "stream",
     "text": [
      "F-Statistic: 0.24570227711755296\n",
      "F-crit pada tingkat signifikansi 0.05: 2.013158629651138\n",
      "Tidak terdapat perbedaan signifikan antara dua model. Gagal menolak H0.\n"
     ]
    }
   ],
   "source": [
    "df_period1 = df[df['Tahun'] <= 2021]\n",
    "df_period2 = df[df['Tahun'] > 2021]\n",
    "\n",
    "X1 = df_period1.iloc[:,2:8]\n",
    "X2 = df_period2.iloc[:,2:8]\n",
    "y1 = df_period1['PDRB']\n",
    "y2 = df_period2['PDRB']\n",
    "\n",
    "F_stat, k, n1, n2 = chow_test(X1, y1, X2, y2)\n",
    "print(f\"F-Statistic: {F_stat}\")\n",
    "\n",
    "alpha = 0.05  \n",
    "df1 = k       \n",
    "df2 = (n1 + n2 - 2 * k) \n",
    "\n",
    "F_crit = f.ppf(1 - alpha, df1, df2)\n",
    "print(f\"F-crit pada tingkat signifikansi {alpha}: {F_crit}\")\n",
    "\n",
    "if F_stat > F_crit:\n",
    "    print(\"Terdapat perbedaan signifikan antara dua model. H0 ditolak.\")\n",
    "else:\n",
    "    print(\"Tidak terdapat perbedaan signifikan antara dua model. Gagal menolak H0.\")"
   ]
  },
  {
   "cell_type": "markdown",
   "metadata": {},
   "source": [
    "## BP-LM Test"
   ]
  },
  {
   "cell_type": "code",
   "execution_count": 39,
   "metadata": {},
   "outputs": [
    {
     "name": "stdout",
     "output_type": "stream",
     "text": [
      "                         Model Comparison                        \n",
      "=================================================================\n",
      "                                       Pooled OLS  Random Effects\n",
      "-----------------------------------------------------------------\n",
      "Dep. Variable                                PDRB            PDRB\n",
      "Estimator                               PooledOLS   RandomEffects\n",
      "No. Observations                             2570            2570\n",
      "Cov. Est.                              Unadjusted      Unadjusted\n",
      "R-squared                                  1.0000          1.0000\n",
      "R-Squared (Within)                         1.0000          1.0000\n",
      "R-Squared (Between)                        1.0000          1.0000\n",
      "R-Squared (Overall)                        1.0000          1.0000\n",
      "F-statistic                             7.946e+11       7.894e+11\n",
      "P-value (F-stat)                           0.0000          0.0000\n",
      "=================================== ============= ===============\n",
      "const                                     -36.820         -36.805\n",
      "                                        (-0.9485)       (-0.9450)\n",
      "Pengeluaran Konsumsi Rumah Tangga          1.0000          1.0000\n",
      "                                       (4.09e+05)     (4.078e+05)\n",
      "Pengeluaran Konsumsi LNPRT                 1.0000          1.0000\n",
      "                                      (1.356e+04)     (1.352e+04)\n",
      "Pengeluaran Konsumsi Pemerintah            1.0000          1.0000\n",
      "                                      (2.176e+05)     (2.169e+05)\n",
      "Pembentukan Modal Tetap Bruto              1.0000          1.0000\n",
      "                                      (2.551e+05)     (2.543e+05)\n",
      "Perubahan Inventori                        1.0000          1.0000\n",
      "                                      (2.424e+04)     (2.424e+04)\n",
      "Net Ekspor                                 1.0000          1.0000\n",
      "                                      (4.674e+05)      (4.66e+05)\n",
      "-----------------------------------------------------------------\n",
      "\n",
      "T-stats reported in parentheses\n"
     ]
    }
   ],
   "source": [
    "import pandas as pd\n",
    "\n",
    "from linearmodels.panel import RandomEffects\n",
    "import statsmodels.api as sm\n",
    "from linearmodels.panel import PooledOLS\n",
    "from linearmodels.panel import compare\n",
    "\n",
    "\n",
    "model_dataset = pd.read_csv(\"Dataset/Final_KABKOT_2019-2023.csv\")\n",
    "df = model_dataset.sort_values(by=[\"Kabupaten/Kota\", \"Tahun\"]).reset_index(drop=True)\n",
    "data = df.set_index(['Kabupaten/Kota', 'Tahun'])\n",
    "\n",
    "data['const'] = 1\n",
    "\n",
    "X = data[['const', 'Pengeluaran Konsumsi Rumah Tangga', 'Pengeluaran Konsumsi LNPRT', \n",
    "          'Pengeluaran Konsumsi Pemerintah', 'Pembentukan Modal Tetap Bruto', \n",
    "          'Perubahan Inventori', 'Net Ekspor']]\n",
    "y = data['PDRB']\n",
    "\n",
    "pooled_model = PooledOLS(y, X).fit()\n",
    "\n",
    "random_model = RandomEffects(y, X).fit()\n",
    "\n",
    "test_results = compare({'Pooled OLS': pooled_model, 'Random Effects': random_model})\n",
    "\n",
    "print(test_results)\n"
   ]
  },
  {
   "cell_type": "markdown",
   "metadata": {},
   "source": [
    "## Hausman-Test"
   ]
  },
  {
   "cell_type": "code",
   "execution_count": null,
   "metadata": {},
   "outputs": [
    {
     "name": "stdout",
     "output_type": "stream",
     "text": [
      "Hausman Statistic: 0.0\n",
      "P-value: 1.0\n"
     ]
    }
   ],
   "source": [
    "import numpy as np\n",
    "import pandas as pd\n",
    "import statsmodels.api as sm\n",
    "from statsmodels.formula.api import ols\n",
    "from statsmodels.stats.diagnostic import het_breuschpagan\n",
    "from scipy.stats import chi2\n",
    "\n",
    "model_dataset = pd.read_csv(\"Dataset/Final_KABKOT_2019-2023.csv\")\n",
    "df = model_dataset.sort_values(by=[\"Kabupaten/Kota\", \"Tahun\"]).reset_index(drop=True)\n",
    "data = df.set_index(['Kabupaten/Kota', 'Tahun'])\n",
    "\n",
    "data['const'] = 1\n",
    "\n",
    "fixed_model = sm.OLS(data['PDRB'], data[['const', 'Pengeluaran Konsumsi Rumah Tangga', \n",
    "                                           'Pengeluaran Konsumsi LNPRT', \n",
    "                                           'Pengeluaran Konsumsi Pemerintah', \n",
    "                                           'Pembentukan Modal Tetap Bruto', \n",
    "                                           'Perubahan Inventori', \n",
    "                                           'Net Ekspor']])\n",
    "fixed_results = fixed_model.fit()\n",
    "\n",
    "random_model = sm.OLS(data['PDRB'], data[['const', 'Pengeluaran Konsumsi Rumah Tangga', \n",
    "                                            'Pengeluaran Konsumsi LNPRT', \n",
    "                                            'Pengeluaran Konsumsi Pemerintah', \n",
    "                                            'Pembentukan Modal Tetap Bruto', \n",
    "                                            'Perubahan Inventori', \n",
    "                                            'Net Ekspor']])\n",
    "random_results = random_model.fit()\n",
    "\n",
    "b_diff = fixed_results.params - random_results.params\n",
    "v_diff = fixed_results.normalized_cov_params - random_results.normalized_cov_params\n",
    "\n",
    "epsilon = 1e-6\n",
    "v_diff += np.eye(len(v_diff)) * epsilon\n",
    "\n",
    "hausman_statistic = np.dot(b_diff.T, np.linalg.inv(v_diff)).dot(b_diff)\n",
    "df_bdiff = len(b_diff)  \n",
    "\n",
    "p_value = 1 - chi2.cdf(hausman_statistic, df_bdiff)\n",
    "\n",
    "print(f\"Hausman Statistic: {hausman_statistic}\") \n",
    "print(f\"P-value: {p_value}\")"
   ]
  },
  {
   "cell_type": "markdown",
   "metadata": {},
   "source": [
    "## Random Effect Model"
   ]
  },
  {
   "cell_type": "code",
   "execution_count": 41,
   "metadata": {},
   "outputs": [
    {
     "name": "stdout",
     "output_type": "stream",
     "text": [
      "                        RandomEffects Estimation Summary                        \n",
      "================================================================================\n",
      "Dep. Variable:                   PDRB   R-squared:                        1.0000\n",
      "Estimator:              RandomEffects   R-squared (Between):              1.0000\n",
      "No. Observations:                2570   R-squared (Within):               1.0000\n",
      "Date:                Wed, Nov 06 2024   R-squared (Overall):              1.0000\n",
      "Time:                        20:25:25   Log-likelihood                -2.287e+04\n",
      "Cov. Estimator:            Unadjusted                                           \n",
      "                                        F-statistic:                   7.894e+11\n",
      "Entities:                         514   P-value                           0.0000\n",
      "Avg Obs:                       5.0000   Distribution:                  F(6,2563)\n",
      "Min Obs:                       5.0000                                           \n",
      "Max Obs:                       5.0000   F-statistic (robust):          7.894e+11\n",
      "                                        P-value                           0.0000\n",
      "Time periods:                       5   Distribution:                  F(6,2563)\n",
      "Avg Obs:                       514.00                                           \n",
      "Min Obs:                       514.00                                           \n",
      "Max Obs:                       514.00                                           \n",
      "                                                                                \n",
      "                                         Parameter Estimates                                         \n",
      "=====================================================================================================\n",
      "                                   Parameter  Std. Err.     T-stat    P-value    Lower CI    Upper CI\n",
      "-----------------------------------------------------------------------------------------------------\n",
      "const                                -36.805     38.948    -0.9450     0.3448     -113.18      39.568\n",
      "Pengeluaran Konsumsi Rumah Tangga     1.0000  2.452e-06  4.078e+05     0.0000      1.0000      1.0000\n",
      "Pengeluaran Konsumsi LNPRT            1.0000  7.395e-05  1.352e+04     0.0000      0.9999      1.0002\n",
      "Pengeluaran Konsumsi Pemerintah       1.0000  4.611e-06  2.169e+05     0.0000      1.0000      1.0000\n",
      "Pembentukan Modal Tetap Bruto         1.0000  3.933e-06  2.543e+05     0.0000      1.0000      1.0000\n",
      "Perubahan Inventori                   1.0000  4.125e-05  2.424e+04     0.0000      0.9999      1.0001\n",
      "Net Ekspor                            1.0000  2.146e-06   4.66e+05     0.0000      1.0000      1.0000\n",
      "=====================================================================================================\n"
     ]
    }
   ],
   "source": [
    "import pandas as pd\n",
    "from linearmodels.panel import RandomEffects\n",
    "\n",
    "# Membuat model Random Effects dan mengestimasi parameter\n",
    "random_effects_model = RandomEffects(y, X).fit()\n",
    "\n",
    "# Menampilkan hasil estimasi model Random Effects\n",
    "print(random_effects_model.summary)\n"
   ]
  }
 ],
 "metadata": {
  "kernelspec": {
   "display_name": "Python 3",
   "language": "python",
   "name": "python3"
  },
  "language_info": {
   "codemirror_mode": {
    "name": "ipython",
    "version": 3
   },
   "file_extension": ".py",
   "mimetype": "text/x-python",
   "name": "python",
   "nbconvert_exporter": "python",
   "pygments_lexer": "ipython3",
   "version": "3.11.7"
  }
 },
 "nbformat": 4,
 "nbformat_minor": 2
}
